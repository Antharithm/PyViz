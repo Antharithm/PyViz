{
 "cells": [
  {
   "cell_type": "markdown",
   "metadata": {},
   "source": [
    "# San Francisco Rental Prices Dashboard\n",
    "\n",
    "In this notebook, you will compile the visualizations from the previous analysis into functions that can be used for a Panel dashboard."
   ]
  },
  {
   "cell_type": "code",
   "execution_count": 39,
   "metadata": {},
   "outputs": [],
   "source": [
    "# imports\n",
    "import panel as pn\n",
    "pn.extension('plotly')\n",
    "import plotly.express as px\n",
    "import pandas as pd\n",
    "import hvplot.pandas\n",
    "import matplotlib.pyplot as plt\n",
    "import os\n",
    "from pathlib import Path\n",
    "from dotenv import load_dotenv"
   ]
  },
  {
   "cell_type": "code",
   "execution_count": 40,
   "metadata": {},
   "outputs": [],
   "source": [
    "# Read the Mapbox API key\n",
    "load_dotenv()\n",
    "map_box_api = os.getenv(\"mapbox\")\n",
    "px.set_mapbox_access_token(map_box_api)"
   ]
  },
  {
   "cell_type": "markdown",
   "metadata": {},
   "source": [
    "# Import Data"
   ]
  },
  {
   "cell_type": "code",
   "execution_count": 41,
   "metadata": {},
   "outputs": [
    {
     "name": "stdout",
     "output_type": "stream",
     "text": [
      "Number of NA values in the SFO Census DataFrame: 5\n",
      "Number of NULL values in the SFO Census DataFrame: 5\n",
      "Number of NA values after drop function is applied: 0\n",
      "Number of NULL values after drop function is applied: 0\n"
     ]
    }
   ],
   "source": [
    "# Import the necessary CSVs to Pandas DataFrames\n",
    "file_path = Path(\"Data/sfo_neighborhoods_census_data.csv\")\n",
    "sfo_data = pd.read_csv(file_path, index_col = \"year\")\n",
    "\n",
    "# check for NA values\n",
    "number_of_na = sfo_data.isna().sum().sum()\n",
    "print(f\"Number of NA values in the SFO Census DataFrame: {number_of_na}\")\n",
    "\n",
    "# check for null values\n",
    "number_of_nulls = sfo_data.isnull().sum().sum()\n",
    "print(f\"Number of NULL values in the SFO Census DataFrame: {number_of_nulls}\")\n",
    "\n",
    "# Dropping NA and NULL values\n",
    "sfo_data.dropna(inplace = True)\n",
    "\n",
    "number_of_na = sfo_data.isna().sum().sum()\n",
    "print(f\"Number of NA values after drop function is applied: {number_of_na}\")\n",
    "\n",
    "# Check for NULL values after drop function\n",
    "number_of_nulls = sfo_data.isnull().sum().sum()\n",
    "print(f\"Number of NULL values after drop function is applied: {number_of_nulls}\")"
   ]
  },
  {
   "cell_type": "code",
   "execution_count": 42,
   "metadata": {},
   "outputs": [
    {
     "name": "stdout",
     "output_type": "stream",
     "text": [
      "Number of NA values in the coordinate data: 0\n",
      "Number of NULL values in the coordinate data: 0\n"
     ]
    }
   ],
   "source": [
    "# Load in neighborhoods coordinates data and setup a DataFrame\n",
    "file_path = Path(\"Data/neighborhoods_coordinates.csv\")\n",
    "\n",
    "coordinate_data_df = pd.read_csv(file_path)\n",
    "coordinate_data_df.columns = [\"neighborhood\", \"lat\", \"lon\"]\n",
    "coordiante_data_df = coordinate_data_df.set_index(\"neighborhood\")\n",
    "\n",
    "# checking for NA values\n",
    "number_of_na_coordiante_data = coordinate_data_df.isna().sum().sum()\n",
    "print(f\"Number of NA values in the coordinate data: {number_of_na_coordiante_data}\")\n",
    "\n",
    "# checking for NULL values\n",
    "number_of_nulls_coordinate_data = coordinate_data_df.isnull().sum().sum()\n",
    "print(f\"Number of NULL values in the coordinate data: {number_of_nulls_coordinate_data}\")"
   ]
  },
  {
   "cell_type": "markdown",
   "metadata": {},
   "source": [
    "# Global DataFrames (used in multiple graphs)"
   ]
  },
  {
   "cell_type": "code",
   "execution_count": 45,
   "metadata": {},
   "outputs": [
    {
     "data": {
      "text/html": [
       "<div>\n",
       "<style scoped>\n",
       "    .dataframe tbody tr th:only-of-type {\n",
       "        vertical-align: middle;\n",
       "    }\n",
       "\n",
       "    .dataframe tbody tr th {\n",
       "        vertical-align: top;\n",
       "    }\n",
       "\n",
       "    .dataframe thead th {\n",
       "        text-align: right;\n",
       "    }\n",
       "</style>\n",
       "<table border=\"1\" class=\"dataframe\">\n",
       "  <thead>\n",
       "    <tr style=\"text-align: right;\">\n",
       "      <th></th>\n",
       "      <th>index</th>\n",
       "      <th>sale_price_sqr_foot</th>\n",
       "      <th>housing_units</th>\n",
       "      <th>gross_rent</th>\n",
       "      <th>neighborhood</th>\n",
       "      <th>lat</th>\n",
       "      <th>lon</th>\n",
       "    </tr>\n",
       "  </thead>\n",
       "  <tbody>\n",
       "  </tbody>\n",
       "</table>\n",
       "</div>"
      ],
      "text/plain": [
       "Empty DataFrame\n",
       "Columns: [index, sale_price_sqr_foot, housing_units, gross_rent, neighborhood, lat, lon]\n",
       "Index: []"
      ]
     },
     "execution_count": 45,
     "metadata": {},
     "output_type": "execute_result"
    }
   ],
   "source": [
    "# Create global DataFrames to improve code preformance these DF's are used in multiple graphs to plot the data\n",
    "\n",
    "# group by year and neighborhood and create a DataFrame with all of the mean values\n",
    "means = sfo_data.groupby([\"year\", \"neighborhood\"]).mean()\n",
    "means_df = pd.DataFrame(means)\n",
    "\n",
    "# make a dataframe for sales price per neighborhood, housing units and gross rent for each neighborhood (mean)\n",
    "mean_values_neighborhood = sfo_data.groupby([\"neighborhood\"]).mean()\n",
    "mean_values_neighborhood_df = pd.DataFrame(mean_values_neighborhood)\n",
    "\n",
    "# filter out the 10 most expensive neighborhoods for sales price per sq ft\n",
    "top_10_mean_sale_price_of_neighborhood_df = mean_values_neighborhood_df.nlargest(10, \"sale_price_sqr_foot\")\n",
    "\n",
    "# reset the index for the top 10 neighborhoods per sq foot dataframe\n",
    "top_10__mean_sale_price_of_neighborhood_no_index_df = top_10_mean_sale_price_of_neighborhood_df.reset_index()\n",
    "\n",
    "# list the top 10 neighborhoods\n",
    "top_ten_neighborhoods = top_10__mean_sale_price_of_neighborhood_no_index_df[\"neighborhood\"].tolist()\n",
    "\n",
    "# reset and create a dataframe from the original DF (sfo_data) without an index\n",
    "sfo_data_no_index = sfo_data.reset_index()\n",
    "\n",
    "# selecting a subject containing the top 10 neighborhood names from (sfo_data_no_index)\n",
    "yearly_change_of_rent_and_price_top_10_no_index = sfo_data_no_index[sfo_data_no_index[\"neighborhood\"].isin(top_ten_neighborhoods)]\n",
    "\n",
    "# setting the index of the top 10 neighborhood data with yearly variation included in the neighborhoods\n",
    "yearly_change_of_rent_and_price_top_10 = yearly_change_of_rent_and_price_top_10_no_index.set_index([\"neighborhood\"])\n",
    "\n",
    "# join the average values with the neighborhood locations\n",
    "combined_sfo_df = pd.concat([mean_values_neighborhood_df, coordinate_data_df], axis = \"columns\", join = \"inner\")\n",
    "combined_sfo_df.head(3)\n",
    "\n",
    "# remove the index of the combined dataframe\n",
    "combined_sfo_no_index = combined_sfo_df.reset_index()\n",
    "\n",
    "# print and view the dataframe\n",
    "combined_sfo_no_index.head()"
   ]
  },
  {
   "cell_type": "markdown",
   "metadata": {},
   "source": [
    "## Panel Visualizations\n",
    "\n",
    "In this section, you will copy the code for each plot type from your analysis notebook and place it into separate functions that Panel can use to create panes for the dashboard. \n",
    "\n",
    "These functions will convert the plot object to a Panel pane.\n",
    "\n",
    "Be sure to include any DataFrame transformation/manipulation code required along with the plotting code.\n",
    "\n",
    "Return a Panel pane object from each function that can be used to build the dashboard.\n",
    "\n",
    "Note: Remove any `.show()` lines from the code. We want to return the plots instead of showing them. The Panel dashboard will then display the plots."
   ]
  },
  {
   "cell_type": "code",
   "execution_count": null,
   "metadata": {},
   "outputs": [],
   "source": [
    "# Define Panel Visualization Functions (calculate on the fly)\n",
    "def housing_units_per_year_optional():\n",
    "    \"\"\"Housing Units Per Year.\"\"\"\n",
    "    \n",
    "    average_housing_units_per_year_optional = sfo_data[\"housing_units\"].groupby(\"year\").mean()\n",
    "    average_housing_units_per_year_optional_df = pd.DataFrame(average_housing_units_per_year_optional)\n",
    "\n",
    "# optional challenge\n",
    "    min_of_annual_unit_averages = int(average_housing_units_per_year_optional_df.min())\n",
    "    max_of_annual_unit_averages = int(average_housing_units_per_year_optional_df.max())\n",
    "    std_of_annual_unit_averages = int(average_housing_units_per_year_optional_df.std())\n",
    "\n",
    "# calculate the yaxsis upper limit = max_height_annual_unit_averages yaxis lower limit = min_height_annual_unit_averages and convert to intergers\n",
    "    max_height_annual_unit_averages = max_of_annual_unit_averages = std_of_annual_unit_averages\n",
    "    min_height_annual_unit_averages = min_of_annual_unit_averages - std_of_annual_unit_averages\n",
    "    \n",
    "# plot the bar graph with the calculated yaxis range\n",
    "    housing_units_per_year_plot_optional = average_housing_units_per_year_optional_df.hvplot.bar(\n",
    "        height = 400,\n",
    "        width = 800,\n",
    "        x = \"year\"\n",
    "        y = \"housing_units\",\n",
    "        xlabel = \"Year\",\n",
    "        ylabel = \"Average Housing Units\",\n",
    "        ylim = (min_height_annual_unit_averages, max_height_annual_unit_averages),\n",
    "        title = \"Average Annual Housing Unit Occupation in San Francisco Optional\"\n",
    "    )\n",
    "    return housing_units_per_year_plot_optional\n",
    "    \n",
    "    \n",
    "def average_gross_rent():\n",
    "    \"\"\"Average Gross Rent in San Francisco Per Year.\"\"\"\n",
    "    \n",
    "    average_monthly_rent = sfo_data[\"gross_rent\"].groupby([\"year\"]).mean()\n",
    "    average_monthly_rent_df = pd.DataFrame(average_monthly_rent)\n",
    "    \n",
    "    # line chart for average monthly rent\n",
    "    average_gross_rent_plot = average_monthly_rent_df.hvplot.line(\n",
    "        height = 400,\n",
    "        width = 800,\n",
    "        x = \"year\",\n",
    "        y = \"gross_rent\",\n",
    "        xlabel = \"Year\",\n",
    "        ylim = (800, 5000),\n",
    "        title = \"Annual Variation o\")\n",
    "\n",
    "\n",
    "def average_sales_price():\n",
    "    \"\"\"Average Sales Price Per Year.\"\"\"\n",
    "    \n",
    "    # YOUR CODE HERE!\n",
    "\n",
    "\n",
    "\n",
    "def average_price_by_neighborhood():\n",
    "    \"\"\"Average Prices by Neighborhood.\"\"\"\n",
    "    \n",
    "    # YOUR CODE HERE!\n",
    "\n",
    "\n",
    "\n",
    "def top_most_expensive_neighborhoods():\n",
    "    \"\"\"Top 10 Most Expensive Neighborhoods.\"\"\"\n",
    "\n",
    "    # YOUR CODE HERE!\n",
    "\n",
    "\n",
    "def most_expensive_neighborhoods_rent_sales():\n",
    "    \"\"\"Comparison of Rent and Sales Prices of Most Expensive Neighborhoods.\"\"\"   \n",
    "    \n",
    "    # YOUR CODE HERE!\n",
    "\n",
    "    \n",
    "    \n",
    "def parallel_coordinates():\n",
    "    \"\"\"Parallel Coordinates Plot.\"\"\"\n",
    "\n",
    "    # YOUR CODE HERE!\n",
    "\n",
    "\n",
    "\n",
    "def parallel_categories():\n",
    "    \"\"\"Parallel Categories Plot.\"\"\"\n",
    "    \n",
    "    # YOUR CODE HERE!\n",
    "\n",
    "\n",
    "\n",
    "def neighborhood_map():\n",
    "    \"\"\"Neighborhood Map.\"\"\"\n",
    "\n",
    "    # YOUR CODE HERE!\n",
    "\n",
    "\n",
    "def sunburst():\n",
    "    \"\"\"Sunburst Plot.\"\"\"\n",
    "    \n",
    "    # YOUR CODE HERE!\n"
   ]
  },
  {
   "cell_type": "markdown",
   "metadata": {},
   "source": [
    "## Panel Dashboard\n",
    "\n",
    "In this section, you will combine all of the plots into a single dashboard view using Panel. Be creative with your dashboard design!"
   ]
  },
  {
   "cell_type": "code",
   "execution_count": null,
   "metadata": {},
   "outputs": [],
   "source": [
    "# Create a Title for the Dashboard\n",
    "occupation_rent_column = pn.Column(\n",
    "    \"##\"\n",
    ")\n",
    "\n",
    "# Create a tab layout for the dashboard\n",
    "# YOUR CODE HERE!\n",
    "\n",
    "\n",
    "# Create the dashboard\n",
    "# YOUR CODE HERE!"
   ]
  },
  {
   "cell_type": "markdown",
   "metadata": {},
   "source": [
    "## Serve the Panel Dashboard"
   ]
  },
  {
   "cell_type": "code",
   "execution_count": null,
   "metadata": {},
   "outputs": [],
   "source": [
    "# Serve the# dashboard\n",
    "# YOUR CODE HERE!"
   ]
  },
  {
   "cell_type": "markdown",
   "metadata": {},
   "source": [
    "# Debugging\n",
    "\n",
    "Note: Some of the Plotly express plots may not render in the notebook through the panel functions.\n",
    "\n",
    "However, you can test each plot by uncommenting the following code"
   ]
  },
  {
   "cell_type": "code",
   "execution_count": null,
   "metadata": {},
   "outputs": [],
   "source": [
    "# housing_units_per_year()"
   ]
  },
  {
   "cell_type": "code",
   "execution_count": null,
   "metadata": {},
   "outputs": [],
   "source": [
    "# average_gross_rent()"
   ]
  },
  {
   "cell_type": "code",
   "execution_count": null,
   "metadata": {},
   "outputs": [],
   "source": [
    "# average_sales_price()"
   ]
  },
  {
   "cell_type": "code",
   "execution_count": null,
   "metadata": {},
   "outputs": [],
   "source": [
    "# average_price_by_neighborhood()"
   ]
  },
  {
   "cell_type": "code",
   "execution_count": null,
   "metadata": {},
   "outputs": [],
   "source": [
    "# top_most_expensive_neighborhoods()"
   ]
  },
  {
   "cell_type": "code",
   "execution_count": null,
   "metadata": {},
   "outputs": [],
   "source": [
    "# most_expensive_neighborhoods_rent_sales()"
   ]
  },
  {
   "cell_type": "code",
   "execution_count": null,
   "metadata": {},
   "outputs": [],
   "source": [
    "# neighborhood_map().show()"
   ]
  },
  {
   "cell_type": "code",
   "execution_count": null,
   "metadata": {},
   "outputs": [],
   "source": [
    "# parallel_categories()"
   ]
  },
  {
   "cell_type": "code",
   "execution_count": null,
   "metadata": {},
   "outputs": [],
   "source": [
    "# parallel_coordinates()"
   ]
  },
  {
   "cell_type": "code",
   "execution_count": null,
   "metadata": {},
   "outputs": [],
   "source": [
    "# sunburst()"
   ]
  },
  {
   "cell_type": "code",
   "execution_count": null,
   "metadata": {},
   "outputs": [],
   "source": []
  }
 ],
 "metadata": {
  "file_extension": ".py",
  "kernelspec": {
   "display_name": "Python [conda env:pyvizenv] *",
   "language": "python",
   "name": "conda-env-pyvizenv-py"
  },
  "language_info": {
   "codemirror_mode": {
    "name": "ipython",
    "version": 3
   },
   "file_extension": ".py",
   "mimetype": "text/x-python",
   "name": "python",
   "nbconvert_exporter": "python",
   "pygments_lexer": "ipython3",
   "version": "3.7.10"
  },
  "mimetype": "text/x-python",
  "name": "python",
  "npconvert_exporter": "python",
  "pygments_lexer": "ipython3",
  "version": 3
 },
 "nbformat": 4,
 "nbformat_minor": 4
}
